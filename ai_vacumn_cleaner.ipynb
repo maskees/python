{
  "nbformat": 4,
  "nbformat_minor": 0,
  "metadata": {
    "colab": {
      "provenance": [],
      "authorship_tag": "ABX9TyMgzXUEz1rIdWQQ8reUKV1Z",
      "include_colab_link": true
    },
    "kernelspec": {
      "name": "python3",
      "display_name": "Python 3"
    },
    "language_info": {
      "name": "python"
    }
  },
  "cells": [
    {
      "cell_type": "markdown",
      "metadata": {
        "id": "view-in-github",
        "colab_type": "text"
      },
      "source": [
        "<a href=\"https://colab.research.google.com/github/maskees/python/blob/main/ai_vacumn_cleaner.ipynb\" target=\"_parent\"><img src=\"https://colab.research.google.com/assets/colab-badge.svg\" alt=\"Open In Colab\"/></a>"
      ]
    },
    {
      "cell_type": "code",
      "execution_count": null,
      "metadata": {
        "colab": {
          "base_uri": "https://localhost:8080/"
        },
        "id": "JL0aSE3awoG5",
        "outputId": "8805184d-f8f7-47ca-d828-94aa378066c4"
      },
      "outputs": [
        {
          "output_type": "stream",
          "name": "stdout",
          "text": [
            "enter the number of rooms in the house 3\n",
            "enter if room is clean then'c' and if dirty 'd' \n",
            "enter the conditions for room 1 c\n",
            "enter the conditions for room 2 c\n",
            "enter the conditions for room 3 d\n",
            "room number 1 is clean \n",
            "skip\n",
            "room number 2 is clean \n",
            "skip\n",
            "room number 3 is dirty \n",
            "cleaning...\n",
            "room 1 is clean\n",
            "room 2 is clean\n",
            "room 3 is clean\n"
          ]
        }
      ],
      "source": [
        "#roll no- I044\n",
        "#name- shaksham mehra\n",
        "#sapid-70122300005\n",
        "room_list=[]\n",
        "clean=[]\n",
        "x=int(input(\"enter the number of rooms in the house \"))\n",
        "for i in range(x):\n",
        "  room_list.append(i+1)\n",
        "print(\"enter if room is clean then'c' and if dirty 'd' \")\n",
        "for i in room_list:\n",
        "  clean.append(input(f\"enter the conditions for room {i} \"))\n",
        "for i in room_list:\n",
        "  if clean[i-1]==\"c\":\n",
        "    print(f\"room number {i} is clean \")\n",
        "    print(\"skip\")\n",
        "  else:\n",
        "    print(f\"room number {i} is dirty \")\n",
        "    print(\"cleaning...\")\n",
        "for i in room_list:\n",
        "  print(f\"room {i} is clean\")"
      ]
    },
    {
      "cell_type": "code",
      "source": [],
      "metadata": {
        "id": "m-Cl9FyPxFH7"
      },
      "execution_count": null,
      "outputs": []
    }
  ]
}